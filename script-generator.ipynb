{
 "cells": [
  {
   "cell_type": "markdown",
   "metadata": {},
   "source": [
    "# Git Commit Pattern Generator for 2017\n",
    "\n",
    "This notebook generates git commands to create commits following this pattern:\n",
    "- Day 1: 1 commit\n",
    "- Day 2: 2 commits\n",
    "- Day 3: 3 commits\n",
    "And so on for every day in 2017."
   ]
  },
  {
   "cell_type": "code",
   "execution_count": 1,
   "metadata": {},
   "outputs": [],
   "source": [
    "from datetime import datetime, timedelta\n",
    "import os\n",
    "\n",
    "def generate_git_commands(year, total_days):\n",
    "    start_date = datetime(year, 1, 1)\n",
    "    commits_to_push = 0\n",
    "\n",
    "    with open('./../contribution-sink/commit.sh', 'w') as f:\n",
    "\n",
    "        for day_count in range(1, total_days + 1):\n",
    "            current_date = start_date + timedelta(days=day_count - 1)\n",
    "\n",
    "            # For each day, create N commits where N is the day number\n",
    "            for commit_number in range(day_count):\n",
    "                # Format the date for git command\n",
    "                date_str = current_date.strftime('%Y-%m-%d %H:%M:%S')\n",
    "\n",
    "                # Create a unique message for each commit\n",
    "                commit_msg = f'Commit {commit_number + 1} for day {day_count} ({date_str})'\n",
    "\n",
    "\n",
    "                # Set both author and committer dates\n",
    "                env_vars = f'GIT_AUTHOR_DATE=\"{date_str}\" GIT_COMMITTER_DATE=\"{date_str}\"'\n",
    "                f.write(f'{env_vars} git commit --allow-empty -m \"{commit_msg}\"\\n')\n",
    "\n",
    "                commits_to_push += 1\n",
    "                # push commits if it reaches the 1000 limit\n",
    "                if commits_to_push >= 1000:\n",
    "                    f.write('git push\\n')\n",
    "                    commits_to_push = 0\n",
    "\n",
    "        # Push the remaining commits\n",
    "        f.write('git push\\n')\n",
    "        commits_to_push = 0\n",
    "\n",
    "# Run the generator\n",
    "generate_git_commands(2017,365)"
   ]
  }
 ],
 "metadata": {
  "kernelspec": {
   "display_name": "venv",
   "language": "python",
   "name": "python3"
  },
  "language_info": {
   "codemirror_mode": {
    "name": "ipython",
    "version": 3
   },
   "file_extension": ".py",
   "mimetype": "text/x-python",
   "name": "python",
   "nbconvert_exporter": "python",
   "pygments_lexer": "ipython3",
   "version": "3.12.3"
  }
 },
 "nbformat": 4,
 "nbformat_minor": 2
}
